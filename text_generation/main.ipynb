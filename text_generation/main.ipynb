{
  "nbformat": 4,
  "nbformat_minor": 0,
  "metadata": {
    "colab": {
      "provenance": []
    },
    "kernelspec": {
      "name": "python3",
      "display_name": "Python 3"
    },
    "language_info": {
      "name": "python"
    }
  },
  "cells": [
    {
      "cell_type": "code",
      "execution_count": null,
      "metadata": {
        "id": "gr4ApodzvBaT"
      },
      "outputs": [],
      "source": [
        "from data_preprocessing import load_data, preprocess_text\n",
        "from model_training import train_model, prepare_sequences\n",
        "from text_generation.text_generation import generate_text\n",
        "import config\n",
        "\n",
        "# Load and preprocess data\n",
        "data = load_data(config.DATA_PATH)\n",
        "preprocessed_data = preprocess_text(data)\n",
        "\n",
        "# Prepare data for training\n",
        "input_sequences, max_sequence_len, tokenizer = prepare_sequences(preprocessed_data)\n",
        "\n",
        "# Train the model\n",
        "model = train_model(input_sequences, max_sequence_len, tokenizer)\n",
        "\n",
        "# Generate text\n",
        "seed_text = \"There is something\"\n",
        "generated_text = generate_text(seed_text, 10, model, tokenizer, max_sequence_len)\n",
        "print(generated_text)\n",
        "\n",
        "# Save the model\n",
        "model.save(config.MODEL_PATH)\n"
      ]
    }
  ]
}